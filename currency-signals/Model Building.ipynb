{
 "cells": [
  {
   "cell_type": "code",
   "execution_count": 1,
   "id": "dfd50b60",
   "metadata": {},
   "outputs": [],
   "source": [
    "import pandas as pd\n",
    "import datetime as dt\n",
    "import pickle\n",
    "import random\n",
    "\n",
    "import yfinance as yf\n",
    "from pandas_datareader import data as pdr\n",
    "yf.pdr_override()\n",
    "import talib as ta\n",
    "from talib import abstract\n",
    "\n",
    "from xgboost import XGBClassifier\n",
    "from lightgbm import LGBMClassifier\n",
    "from catboost import CatBoostClassifier\n",
    "\n",
    "from sklearn.metrics import f1_score, accuracy_score, confusion_matrix\n",
    "from sklearn.pipeline import Pipeline\n",
    "from sklearn.preprocessing import OneHotEncoder, RobustScaler, LabelEncoder, StandardScaler\n",
    "from sklearn.compose import ColumnTransformer\n",
    "from sklearn.model_selection import cross_val_score, TimeSeriesSplit"
   ]
  },
  {
   "cell_type": "code",
   "execution_count": 2,
   "id": "2a1b72a9",
   "metadata": {},
   "outputs": [],
   "source": [
    "class ModelTrain:\n",
    "    \"\"\"\n",
    "    Model Train methods\n",
    "    \"\"\"\n",
    "    \n",
    "    def __init__(self, model, data):\n",
    "        self.model = model\n",
    "        self.data = data\n",
    "        self.x_train = None\n",
    "        self.y_train = None\n",
    "        self.preprocess = None\n",
    "        \n",
    "    def create_features(self, window=3):\n",
    "        df = self.data.copy()\n",
    "\n",
    "        #Bollinger Bands\n",
    "        df['upper_band'], df['middle_band'], df['lower_band'] = ta.BBANDS(df['Close'], timeperiod =20)\n",
    "\n",
    "        #Stochastic Oscillators\n",
    "        df['slowk'], df['slowd'] = ta.STOCH(df['High'], df['Low'], df['Close'], fastk_period=14, slowk_period=3, slowk_matype=0, slowd_period=3, slowd_matype=0)\n",
    "\n",
    "        #RSI\n",
    "        df['rsi_14'] = ta.RSI(df['Close'], 14)\n",
    "\n",
    "        #Absolute Price Osicillator\n",
    "        df[\"apo\"] = ta.APO(df['Close'], fastperiod=12, slowperiod=26, matype=0)\n",
    "\n",
    "        #Exponential Moving Average\n",
    "        df[\"ema_7\"] = ta.EMA(df['Close'], timeperiod=7)\n",
    "\n",
    "        #ratios\n",
    "        df[\"ema_midband\"] = df[\"middle_band\"] / df[\"ema_7\"]\n",
    "        df[\"close_ema\"] = df[\"Close\"] / df[\"ema_7\"]\n",
    "        df[\"close_upband\"] = df[\"Close\"] / df[\"upper_band\"]\n",
    "        df[\"close_lowband\"] = df[\"Close\"] / df[\"lower_band\"]\n",
    "        df[\"close_midband\"] = df[\"Close\"] / df[\"middle_band\"]\n",
    "        df[\"slowk_slowd\"] = df['slowk'] / df['slowd']\n",
    "        df[\"rsi_pct_change\"] = df[\"rsi_14\"].pct_change()\n",
    "        df[\"rsi_stoch\"] = df[\"rsi_14\"] / ((df['slowk'] + df['slowd'])/2)\n",
    "\n",
    "        df[\"close_open\"] = df[\"Close\"] - df[\"Open\"]\n",
    "        df[\"close_high\"] = df[\"Close\"] - df[\"High\"]\n",
    "        df[\"close_low\"] = df[\"Close\"] - df[\"Low\"]\n",
    "\n",
    "        for i in range(1, window+1):\n",
    "            for col in df.loc[:, \"upper_band\":\"close_low\"].columns:\n",
    "                df[col+ \"_lag_\" + str(i)] = df[col].shift(i)  \n",
    "        \n",
    "        df.drop(columns=[\"Close\", \"Open\", \"High\", \"Low\"], inplace=True)\n",
    "        \n",
    "        attr_num = list(set(df.columns) - set([\"open\", \"low\", \"high\", \"close\", \"Target\"]))\n",
    "        \n",
    "        num_pipeline = Pipeline([\n",
    "                       ('scale', StandardScaler())\n",
    "                       ])\n",
    "\n",
    "        preprocessing_pipeline = ColumnTransformer([\n",
    "                                 ('num', num_pipeline, attr_num)\n",
    "                                 ])\n",
    "\n",
    "        new_predictors = list(set(df.columns) - set([\"Target\"]))\n",
    "        \n",
    "        self.data = df\n",
    "        self.x_train = preprocessing_pipeline.fit_transform(df[new_predictors])\n",
    "        self.y_train = df[\"Target\"]\n",
    "        self.preprocess = preprocessing_pipeline\n",
    "    \n",
    "    def evaluate(self, n_splits=10, gap=0, scoring=\"accuracy\"):\n",
    "        print(\"Time Series Validation in progress!!\")\n",
    "        kf = TimeSeriesSplit(n_splits=n_splits, gap=gap)\n",
    "        cv_results = cross_val_score(self.model, self.x_train, self.y_train, cv=kf, scoring= scoring)\n",
    "        print(f\" Accuracy Score : {round(cv_results.mean(), 5)} +- ({round(cv_results.std(), 5)}) {cv_results}\")\n",
    "        \n",
    "    def fit(self):\n",
    "        self.model.fit(self.x_train, self.y_train)\n",
    "        \n",
    "    def model_save(self, output_file):\n",
    "        with open(output_file, 'wb') as f_out: #wb write and binary\n",
    "            pickle.dump((self.preprocess, self.model), f_out)\n",
    "            \n",
    "    def get_xdata(self):\n",
    "        return self.data"
   ]
  },
  {
   "cell_type": "code",
   "execution_count": 3,
   "id": "e8d84298",
   "metadata": {},
   "outputs": [],
   "source": [
    "#fetch data from yahoo finance\n",
    "def get_data(stocks, start, end, interval=\"1d\"):\n",
    "    \"\"\"\n",
    "    fetch data from yahoo finance and drop unnessary columns\n",
    "    \"\"\"\n",
    "    data = pdr.get_data_yahoo(stocks, start=start, end=end, interval=interval)\n",
    "    cleaned = data.drop(columns=[\"Volume\", \"Adj Close\"])\n",
    "    cleaned = cleaned.fillna(method= 'ffill')\n",
    "    cleaned.sort_index(inplace=True) \n",
    "    return cleaned.reset_index()\n",
    "\n",
    "def create_target(df, class_label =2, auto=True, upper=None, lower=None, quantile=0.75):\n",
    "    \"\"\" \n",
    "    Create classification label based on quantiles\n",
    "    \"\"\"\n",
    "    def map_target(pip):\n",
    "        if pip > upper:\n",
    "            return \"buy\"\n",
    "        elif pip < lower:\n",
    "            return \"sell\"\n",
    "        else:\n",
    "            return \"hold\"\n",
    "        \n",
    "    def up_down(pip):\n",
    "        if pip > 0:\n",
    "            return \"buy\"\n",
    "        else:\n",
    "            return \"sell\"\n",
    "        \n",
    "    row_random = random.choice([i for i in range(0, len(df))])\n",
    "    check_decimals = len(str(df.loc[row_random, \"Close\"]).split(\".\")[1])\n",
    "    \n",
    "    #currency and commodaties have different decimal places for calculating pips\n",
    "    if check_decimals == 2:\n",
    "        pip_multiplier = 10\n",
    "    else:\n",
    "        pip_multiplier = 10**4\n",
    "    \n",
    "    df[\"pips\"] = df[\"Close\"].diff().shift(-1) * pip_multiplier\n",
    "    df.dropna(inplace=True)\n",
    "    \n",
    "    if auto == True:\n",
    "        upper = df[\"pips\"].quantile(quantile)\n",
    "        lower = df[\"pips\"].quantile(1-quantile)\n",
    "    \n",
    "    if class_label == 2:\n",
    "        df[\"Target\"] = df[\"pips\"].apply(up_down)\n",
    "    else: \n",
    "        df[\"Target\"] = df[\"pips\"].apply(map_target)\n",
    "        print(f\"upper: {upper}\")\n",
    "        print(f\"lower: {lower}\")\n",
    "    \n",
    "    df.drop(columns=\"pips\", inplace=True)\n",
    "    return df.set_index(\"Date\")"
   ]
  },
  {
   "cell_type": "markdown",
   "id": "8764a158",
   "metadata": {},
   "source": [
    "## Data Loading"
   ]
  },
  {
   "cell_type": "code",
   "execution_count": 4,
   "id": "6bb7070e",
   "metadata": {},
   "outputs": [
    {
     "name": "stdout",
     "output_type": "stream",
     "text": [
      "Start Date:2004-01-01 00:00:00\n",
      "End Date:2022-10-09\n"
     ]
    }
   ],
   "source": [
    "start = dt.datetime(2004, 1, 1)\n",
    "end = dt.date.today()\n",
    "print(f\"Start Date:{start}\")\n",
    "print(f\"End Date:{end}\")"
   ]
  },
  {
   "cell_type": "code",
   "execution_count": 121,
   "id": "47990aa6",
   "metadata": {},
   "outputs": [
    {
     "data": {
      "text/plain": [
       "6"
      ]
     },
     "execution_count": 121,
     "metadata": {},
     "output_type": "execute_result"
    }
   ],
   "source": [
    "end.weekday()"
   ]
  },
  {
   "cell_type": "code",
   "execution_count": 13,
   "id": "79466458",
   "metadata": {},
   "outputs": [
    {
     "name": "stdout",
     "output_type": "stream",
     "text": [
      "[*********************100%***********************]  1 of 1 completed\n",
      "[*********************100%***********************]  1 of 1 completed\n"
     ]
    }
   ],
   "source": [
    "myr = get_data(\"GBPMYR=X\", start=start, end=end, interval='1d')\n",
    "usd = get_data(\"GBPUSD=X\", start=start, end=end, interval='1d')\n",
    "usd = create_target(usd)\n",
    "myr = create_target(myr)\n",
    "currencies = [myr, usd]"
   ]
  },
  {
   "cell_type": "code",
   "execution_count": 8,
   "id": "f90b9ff7",
   "metadata": {},
   "outputs": [
    {
     "data": {
      "text/plain": [
       "{0: 'buy', 1: 'sell'}"
      ]
     },
     "execution_count": 8,
     "metadata": {},
     "output_type": "execute_result"
    }
   ],
   "source": [
    "le = LabelEncoder() #re-classing the target\n",
    "usd[\"Target\"] = le.fit_transform(usd[\"Target\"])\n",
    "\n",
    "mapping = {}\n",
    "for each_class in le.classes_:\n",
    "    mapping[int(le.transform([each_class]))] = each_class\n",
    "\n",
    "mapping"
   ]
  },
  {
   "cell_type": "code",
   "execution_count": 25,
   "id": "55069e59",
   "metadata": {},
   "outputs": [
    {
     "name": "stdout",
     "output_type": "stream",
     "text": [
      "2022-10-07\n"
     ]
    }
   ],
   "source": [
    "print(str(usd.iloc[-1].name).split()[0])"
   ]
  },
  {
   "cell_type": "code",
   "execution_count": 15,
   "id": "0aafef34",
   "metadata": {},
   "outputs": [
    {
     "data": {
      "text/plain": [
       "'geloh'"
      ]
     },
     "execution_count": 15,
     "metadata": {},
     "output_type": "execute_result"
    }
   ],
   "source": [
    "str(\"gelo\" +\"h\")"
   ]
  },
  {
   "cell_type": "markdown",
   "id": "9c5d3e29",
   "metadata": {},
   "source": [
    "### GBPUSD"
   ]
  },
  {
   "cell_type": "code",
   "execution_count": 67,
   "id": "0c9982cd",
   "metadata": {},
   "outputs": [
    {
     "name": "stdout",
     "output_type": "stream",
     "text": [
      "Time Series Validation in progress!!\n",
      " Accuracy Score : 0.66072 +- (0.11492) [0.52370203 0.4717833  0.48984199 0.64785553 0.7268623  0.69300226\n",
      " 0.75620767 0.78329571 0.75846501 0.75620767]\n"
     ]
    }
   ],
   "source": [
    "model_xgb = XGBClassifier(random_state= 42, verbosity = 0, use_label_encoder=False)\n",
    "model_lgbm = LGBMClassifier(random_state= 42)\n",
    "\n",
    "xgb_usd = ModelTrain(model_xgb, usd)\n",
    "xgb_usd.create_features()\n",
    "xgb_usd.evaluate()"
   ]
  },
  {
   "cell_type": "code",
   "execution_count": 73,
   "id": "05e542b1",
   "metadata": {},
   "outputs": [
    {
     "name": "stdout",
     "output_type": "stream",
     "text": [
      "Time Series Validation in progress!!\n",
      " Accuracy Score : 0.66366 +- (0.13175) [0.52370203 0.42889391 0.5282167  0.55530474 0.75620767 0.74040632\n",
      " 0.72234763 0.79683973 0.78781038 0.79683973]\n"
     ]
    }
   ],
   "source": [
    "lgbm_usd = ModelTrain(model_lgbm, usd)\n",
    "lgbm_usd.create_features()\n",
    "lgbm_usd.evaluate()"
   ]
  },
  {
   "cell_type": "code",
   "execution_count": 82,
   "id": "c3173b70",
   "metadata": {},
   "outputs": [],
   "source": [
    "lgbm_usd.fit()\n",
    "lgbm_usd.model_save(\"model/lgbm_usd.bin\")"
   ]
  },
  {
   "cell_type": "markdown",
   "id": "27a786ae",
   "metadata": {},
   "source": [
    "### GBPMYR"
   ]
  },
  {
   "cell_type": "code",
   "execution_count": 88,
   "id": "5c06ae64",
   "metadata": {},
   "outputs": [
    {
     "name": "stdout",
     "output_type": "stream",
     "text": [
      "Time Series Validation in progress!!\n",
      " Accuracy Score : 0.66599 +- (0.10287) [0.51473923 0.51927438 0.51020408 0.67573696 0.75283447 0.75963719\n",
      " 0.72562358 0.75283447 0.76190476 0.68707483]\n"
     ]
    }
   ],
   "source": [
    "myr[\"Target\"] = le.transform(myr[\"Target\"])\n",
    "\n",
    "xgb_myr = ModelTrain(model_xgb, myr)\n",
    "xgb_myr.create_features()\n",
    "xgb_myr.evaluate()"
   ]
  },
  {
   "cell_type": "code",
   "execution_count": 89,
   "id": "13e61cab",
   "metadata": {},
   "outputs": [
    {
     "name": "stdout",
     "output_type": "stream",
     "text": [
      "Time Series Validation in progress!!\n",
      " Accuracy Score : 0.67256 +- (0.1021) [0.53968254 0.52154195 0.52154195 0.63038549 0.7414966  0.72562358\n",
      " 0.75510204 0.76643991 0.76643991 0.75736961]\n"
     ]
    }
   ],
   "source": [
    "lgbm_myr = ModelTrain(model_lgbm, myr)\n",
    "lgbm_myr.create_features()\n",
    "lgbm_myr.evaluate()"
   ]
  },
  {
   "cell_type": "code",
   "execution_count": 90,
   "id": "e34a051c",
   "metadata": {},
   "outputs": [],
   "source": [
    "lgbm_myr.fit()\n",
    "lgbm_myr.model_save(\"model/lgbm_myr.bin\")"
   ]
  },
  {
   "cell_type": "markdown",
   "id": "21c06aab",
   "metadata": {},
   "source": [
    "### Model Load"
   ]
  },
  {
   "cell_type": "code",
   "execution_count": 10,
   "id": "ee5404a9",
   "metadata": {},
   "outputs": [],
   "source": [
    "model_lgbm = LGBMClassifier(random_state= 42)\n",
    "input_file_usd = f'model/lgbm_usd.bin'\n",
    "\n",
    "with open(input_file_usd, \"rb\") as f_in:\n",
    "    preprocess_usd, model_usd = pickle.load(f_in)\n",
    "\n",
    "lgbm_usd = ModelTrain(model_lgbm, usd)\n",
    "lgbm_usd.create_features()\n",
    "\n",
    "lgbm_data = lgbm_usd.get_xdata()\n",
    "lgbm_data = pd.DataFrame(lgbm_data.iloc[-1,:]).T\n"
   ]
  },
  {
   "cell_type": "code",
   "execution_count": 12,
   "id": "5991bf2a",
   "metadata": {},
   "outputs": [
    {
     "ename": "TypeError",
     "evalue": "'ColumnTransformer' object is not callable",
     "output_type": "error",
     "traceback": [
      "\u001b[1;31m---------------------------------------------------------------------------\u001b[0m",
      "\u001b[1;31mTypeError\u001b[0m                                 Traceback (most recent call last)",
      "\u001b[1;32mC:\\Users\\HAZRUL~1\\AppData\\Local\\Temp/ipykernel_5404/822073937.py\u001b[0m in \u001b[0;36m<module>\u001b[1;34m\u001b[0m\n\u001b[1;32m----> 1\u001b[1;33m \u001b[0mpreprocess_usd\u001b[0m\u001b[1;33m(\u001b[0m\u001b[0mlgbm_data\u001b[0m\u001b[1;33m)\u001b[0m\u001b[1;33m\u001b[0m\u001b[1;33m\u001b[0m\u001b[0m\n\u001b[0m",
      "\u001b[1;31mTypeError\u001b[0m: 'ColumnTransformer' object is not callable"
     ]
    }
   ],
   "source": [
    "preprocess_usd(lgbm_data)"
   ]
  },
  {
   "cell_type": "code",
   "execution_count": 11,
   "id": "582e9b21",
   "metadata": {},
   "outputs": [
    {
     "data": {
      "text/html": [
       "<div>\n",
       "<style scoped>\n",
       "    .dataframe tbody tr th:only-of-type {\n",
       "        vertical-align: middle;\n",
       "    }\n",
       "\n",
       "    .dataframe tbody tr th {\n",
       "        vertical-align: top;\n",
       "    }\n",
       "\n",
       "    .dataframe thead th {\n",
       "        text-align: right;\n",
       "    }\n",
       "</style>\n",
       "<table border=\"1\" class=\"dataframe\">\n",
       "  <thead>\n",
       "    <tr style=\"text-align: right;\">\n",
       "      <th></th>\n",
       "      <th>Target</th>\n",
       "      <th>upper_band</th>\n",
       "      <th>middle_band</th>\n",
       "      <th>lower_band</th>\n",
       "      <th>slowk</th>\n",
       "      <th>slowd</th>\n",
       "      <th>rsi_14</th>\n",
       "      <th>apo</th>\n",
       "      <th>ema_7</th>\n",
       "      <th>ema_midband</th>\n",
       "      <th>...</th>\n",
       "      <th>close_ema_lag_3</th>\n",
       "      <th>close_upband_lag_3</th>\n",
       "      <th>close_lowband_lag_3</th>\n",
       "      <th>close_midband_lag_3</th>\n",
       "      <th>slowk_slowd_lag_3</th>\n",
       "      <th>rsi_pct_change_lag_3</th>\n",
       "      <th>rsi_stoch_lag_3</th>\n",
       "      <th>close_open_lag_3</th>\n",
       "      <th>close_high_lag_3</th>\n",
       "      <th>close_low_lag_3</th>\n",
       "    </tr>\n",
       "  </thead>\n",
       "  <tbody>\n",
       "    <tr>\n",
       "      <th>2022-10-07</th>\n",
       "      <td>1.0</td>\n",
       "      <td>1.184497</td>\n",
       "      <td>1.127515</td>\n",
       "      <td>1.070532</td>\n",
       "      <td>82.642156</td>\n",
       "      <td>76.817133</td>\n",
       "      <td>43.962496</td>\n",
       "      <td>-0.022783</td>\n",
       "      <td>1.119416</td>\n",
       "      <td>1.007235</td>\n",
       "      <td>...</td>\n",
       "      <td>1.007996</td>\n",
       "      <td>0.936162</td>\n",
       "      <td>1.039709</td>\n",
       "      <td>0.985222</td>\n",
       "      <td>1.287761</td>\n",
       "      <td>-0.021309</td>\n",
       "      <td>0.904543</td>\n",
       "      <td>0.000409</td>\n",
       "      <td>-0.019177</td>\n",
       "      <td>0.005262</td>\n",
       "    </tr>\n",
       "  </tbody>\n",
       "</table>\n",
       "<p>1 rows × 77 columns</p>\n",
       "</div>"
      ],
      "text/plain": [
       "            Target  upper_band  middle_band  lower_band      slowk      slowd  \\\n",
       "2022-10-07     1.0    1.184497     1.127515    1.070532  82.642156  76.817133   \n",
       "\n",
       "               rsi_14       apo     ema_7  ema_midband  ...  close_ema_lag_3  \\\n",
       "2022-10-07  43.962496 -0.022783  1.119416     1.007235  ...         1.007996   \n",
       "\n",
       "            close_upband_lag_3  close_lowband_lag_3  close_midband_lag_3  \\\n",
       "2022-10-07            0.936162             1.039709             0.985222   \n",
       "\n",
       "            slowk_slowd_lag_3  rsi_pct_change_lag_3  rsi_stoch_lag_3  \\\n",
       "2022-10-07           1.287761             -0.021309         0.904543   \n",
       "\n",
       "            close_open_lag_3  close_high_lag_3  close_low_lag_3  \n",
       "2022-10-07          0.000409         -0.019177         0.005262  \n",
       "\n",
       "[1 rows x 77 columns]"
      ]
     },
     "execution_count": 11,
     "metadata": {},
     "output_type": "execute_result"
    }
   ],
   "source": [
    "lgbm_data"
   ]
  },
  {
   "cell_type": "code",
   "execution_count": 117,
   "id": "6922d14f",
   "metadata": {},
   "outputs": [
    {
     "data": {
      "text/plain": [
       "array([1])"
      ]
     },
     "execution_count": 117,
     "metadata": {},
     "output_type": "execute_result"
    }
   ],
   "source": [
    "X = lgbm_p.transform(pd.DataFrame(X[1:]).T)\n",
    "lgbm_only.predict(X)"
   ]
  },
  {
   "cell_type": "code",
   "execution_count": 118,
   "id": "d3910310",
   "metadata": {},
   "outputs": [
    {
     "data": {
      "text/plain": [
       "1"
      ]
     },
     "execution_count": 118,
     "metadata": {},
     "output_type": "execute_result"
    }
   ],
   "source": [
    "y = lgbm_only.predict(X)\n",
    "y[0]"
   ]
  }
 ],
 "metadata": {
  "kernelspec": {
   "display_name": "Python 3 (ipykernel)",
   "language": "python",
   "name": "python3"
  },
  "language_info": {
   "codemirror_mode": {
    "name": "ipython",
    "version": 3
   },
   "file_extension": ".py",
   "mimetype": "text/x-python",
   "name": "python",
   "nbconvert_exporter": "python",
   "pygments_lexer": "ipython3",
   "version": "3.9.0"
  }
 },
 "nbformat": 4,
 "nbformat_minor": 5
}
